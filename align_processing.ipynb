{
 "cells": [
  {
   "cell_type": "code",
   "execution_count": 2,
   "id": "bb8be896-6692-4a7e-9542-b5b314c1733b",
   "metadata": {},
   "outputs": [],
   "source": [
    "import numpy as np\n",
    "import matplotlib.pyplot as plt\n",
    "import csv"
   ]
  },
  {
   "cell_type": "code",
   "execution_count": 16,
   "id": "0c72c818-3565-47c1-abed-5d490c31536c",
   "metadata": {},
   "outputs": [],
   "source": [
    "path = \"./alignData\"\n",
    "\n",
    "dataDict = {}\n",
    "with open(path, mode ='r')as file:\n",
    "    csvFile = csv.reader(file, delimiter=\";\")\n",
    "    headerSkipped = False\n",
    "    for lines in csvFile:\n",
    "        if (not headerSkipped): \n",
    "            headerSkipped = True\n",
    "            continue\n",
    "        [noise, case, time, cost] = lines\n",
    "        if (not noise in dataDict): \n",
    "            dataDict[noise] = []\n",
    "        dataDict[noise].append([time, cost])"
   ]
  },
  {
   "cell_type": "code",
   "execution_count": 71,
   "id": "a88fb430-55f4-4a22-9f12-3a07a39dd9c5",
   "metadata": {},
   "outputs": [
    {
     "name": "stdout",
     "output_type": "stream",
     "text": [
      "5\n",
      "TIMEOUT % 0.0\n",
      "Avg non-timeout cost 1.6\n",
      "Avg non-timeout runtime 0.5148718232462183\n",
      "10\n",
      "TIMEOUT % 0.046511627906976744\n",
      "Avg non-timeout cost 2.341463414634146\n",
      "Avg non-timeout runtime 1.846328393329287\n",
      "15\n",
      "TIMEOUT % 0.03225806451612903\n",
      "Avg non-timeout cost 3.2222222222222223\n",
      "Avg non-timeout runtime 10.74393574917778\n",
      "20\n",
      "TIMEOUT % 0.12121212121212122\n",
      "Avg non-timeout cost 3.954022988505747\n",
      "Avg non-timeout runtime 18.31836722970119\n",
      "25\n",
      "TIMEOUT % 0.25510204081632654\n",
      "Avg non-timeout cost 4.52054794520548\n",
      "Avg non-timeout runtime 29.260482892616306\n",
      "30\n",
      "TIMEOUT % 0.3\n",
      "Avg non-timeout cost 4.9\n",
      "Avg non-timeout runtime 41.68193066740047\n",
      "35\n",
      "TIMEOUT % 0.32\n",
      "Avg non-timeout cost 5.544117647058823\n",
      "Avg non-timeout runtime 44.70789154972092\n",
      "40\n",
      "TIMEOUT % 0.48\n",
      "Avg non-timeout cost 5.615384615384615\n",
      "Avg non-timeout runtime 51.45477708755777\n"
     ]
    }
   ],
   "source": [
    "def avg(x):\n",
    "    return sum(x) / len(x)\n",
    "\n",
    "allData = []\n",
    "for noise in dataDict:\n",
    "    data = dataDict[noise]\n",
    "    timeouts = list(filter(lambda point: point[0] == \"TIMEOUT\", data))\n",
    "    nonTimeouts = list(filter(lambda point: point[0] != \"TIMEOUT\", data))\n",
    "    allData += nonTimeouts\n",
    "    print(noise)\n",
    "    print(\"TIMEOUT %\", len(timeouts) / len(data))\n",
    "    \n",
    "    costs = list(map(lambda point: int(point[1]), nonTimeouts))\n",
    "    print(\"Avg non-timeout cost\", avg(costs))\n",
    "\n",
    "    times = list(map(lambda point: float(point[0]), nonTimeouts))\n",
    "    print(\"Avg non-timeout runtime\", avg(times))"
   ]
  },
  {
   "cell_type": "code",
   "execution_count": 113,
   "id": "e3cdf03f-f792-443c-bcd4-b0bf201f0de7",
   "metadata": {},
   "outputs": [
    {
     "data": {
      "text/plain": [
       "587"
      ]
     },
     "execution_count": 113,
     "metadata": {},
     "output_type": "execute_result"
    }
   ],
   "source": [
    "plotDict = {}\n",
    "for point in allData:\n",
    "    [runtime, cost] = point\n",
    "    if (not cost in plotDict): plotDict[cost] = []\n",
    "    plotDict[cost].append(float(runtime))\n",
    " \n",
    "costs = list(map(lambda x: int(x), plotDict.keys()))\n",
    "costs.sort();\n",
    "runtimes = list(map(lambda cost: avg(plotDict[str(cost)]), costs))"
   ]
  },
  {
   "cell_type": "code",
   "execution_count": 111,
   "id": "153cfdbe-6089-4094-bff3-f7ec0c18a6fd",
   "metadata": {},
   "outputs": [
    {
     "data": {
      "image/png": "[encoded data removed]",
      "text/plain": [
       "<Figure size 640x480 with 1 Axes>"
      ]
     },
     "metadata": {},
     "output_type": "display_data"
    }
   ],
   "source": [
    "plt.plot(costs, runtimes)\n",
    "plt.xlabel(\"Alignment Cost\")\n",
    "plt.ylabel(\"Average Runtime (s)\")\n",
    "plt.savefig('align_benchmark.png', bbox_inches='tight')\n",
    "plt.show()"
   ]
  },
  {
   "cell_type": "code",
   "execution_count": 107,
   "id": "87da6e53-4df7-438c-8498-3f7f564d8b59",
   "metadata": {},
   "outputs": [
    {
     "data": {
      "text/plain": [
       "<Figure size 640x480 with 0 Axes>"
      ]
     },
     "metadata": {},
     "output_type": "display_data"
    }
   ],
   "source": []
  },
  {
   "cell_type": "code",
   "execution_count": null,
   "id": "bc33e88b-1c1d-4394-ba00-e9ed6899bfbb",
   "metadata": {},
   "outputs": [],
   "source": []
  }
 ],
 "metadata": {
  "kernelspec": {
   "display_name": "Python 3 (ipykernel)",
   "language": "python",
   "name": "python3"
  },
  "language_info": {
   "codemirror_mode": {
    "name": "ipython",
    "version": 3
   },
   "file_extension": ".py",
   "mimetype": "text/x-python",
   "name": "python",
   "nbconvert_exporter": "python",
   "pygments_lexer": "ipython3",
   "version": "3.12.6"
  }
 },
 "nbformat": 4,
 "nbformat_minor": 5
}
